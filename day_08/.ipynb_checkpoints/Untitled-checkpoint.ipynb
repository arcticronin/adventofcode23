{
 "cells": [
  {
   "cell_type": "code",
   "execution_count": 1,
   "id": "a2d20fbf-6fcf-4d35-85ce-bbed93cf3e8c",
   "metadata": {},
   "outputs": [],
   "source": [
    "def walk(d, node, direction):\n",
    "        if direction == 'L':\n",
    "            return d[node][0]\n",
    "        elif direction == 'R':\n",
    "            return d[node][1]"
   ]
  },
  {
   "cell_type": "code",
   "execution_count": 6,
   "id": "d7e96983-d326-4b86-9863-26e488356919",
   "metadata": {},
   "outputs": [],
   "source": [
    "def check_Z( l ):\n",
    "    for n in l:\n",
    "        if n[-1]!=\"Z\":\n",
    "            return False\n",
    "    return True"
   ]
  },
  {
   "cell_type": "code",
   "execution_count": 3,
   "id": "cd3231a1-688e-40dd-bede-670f1617aba7",
   "metadata": {},
   "outputs": [],
   "source": [
    "## parsing\n",
    "file1 = open('input.txt', 'r')\n",
    "Lines = file1.readlines()\n",
    "\n",
    "d = dict()\n",
    "pattern = Lines[0].strip()\n",
    "\n",
    "for line in Lines[2:]:\n",
    "    s = line.strip()\n",
    "    parsed = s.replace(\" \", \"\").replace(\"(\",\"\").replace(\")\",\"\").replace(\"=\",\",\").split(\",\")\n",
    "    key, l , r = parsed\n",
    "    d[key] =(l,r)"
   ]
  },
  {
   "cell_type": "code",
   "execution_count": 4,
   "id": "f5beb20d-e504-4819-865b-9a9e15bbb5bf",
   "metadata": {},
   "outputs": [
    {
     "data": {
      "text/plain": [
       "23147"
      ]
     },
     "execution_count": 4,
     "metadata": {},
     "output_type": "execute_result"
    }
   ],
   "source": [
    "## part 1\n",
    "position = \"AAA\"\n",
    "steps = 0 \n",
    "walkingDir = pattern\n",
    "while position != \"ZZZ\":\n",
    "    if walkingDir == '':\n",
    "        walkingDir = pattern\n",
    "    position = walk(d,position,walkingDir[0])\n",
    "    walkingDir = walkingDir[1:]\n",
    "    steps += 1 \n",
    "steps"
   ]
  },
  {
   "cell_type": "code",
   "execution_count": 13,
   "id": "77d084de-6a11-4d5e-8151-b8edfd35cad0",
   "metadata": {},
   "outputs": [
    {
     "data": {
      "text/plain": [
       "['NPA', 'HMA', 'GQA', 'CXA', 'AAA', 'VHA']"
      ]
     },
     "execution_count": 13,
     "metadata": {},
     "output_type": "execute_result"
    }
   ],
   "source": [
    "# part 2\n",
    "positionList = []\n",
    "for node in d.keys():\n",
    "    if node[2] == \"A\":\n",
    "        positionList.append(node)\n",
    "positionList"
   ]
  },
  {
   "cell_type": "code",
   "execution_count": null,
   "id": "3c0de8d7-2800-4911-a217-4fbe71122c20",
   "metadata": {},
   "outputs": [],
   "source": [
    "steps2 = 0\n",
    "walkingDir = pattern\n",
    "while (not check_not_Z(positionList)):\n",
    "    if (steps2 % 1000000 == 0):\n",
    "        print(positionList)\n",
    "    if walkingDir == '' :  \n",
    "        walkingDir = pattern\n",
    "    for i in range(len(positionList)):\n",
    "        posiitonList[i] = walk(d , positionList[i],walkingDir[0])\n",
    "    walkingDir = walkingDir[1:]\n",
    "    steps2 += 1 "
   ]
  },
  {
   "cell_type": "code",
   "execution_count": 7,
   "id": "5b72f25e-8916-4466-8de3-474f404c5d51",
   "metadata": {},
   "outputs": [
    {
     "name": "stdout",
     "output_type": "stream",
     "text": [
      "['NPA', 'HMA', 'GQA', 'CXA', 'AAA', 'VHA']\n"
     ]
    }
   ],
   "source": [
    "print(nodeList)"
   ]
  },
  {
   "cell_type": "code",
   "execution_count": null,
   "id": "3035457c-f4f0-4b4a-86aa-084156e64f6c",
   "metadata": {},
   "outputs": [],
   "source": []
  }
 ],
 "metadata": {
  "kernelspec": {
   "display_name": "Python 3 (ipykernel)",
   "language": "python",
   "name": "python3"
  },
  "language_info": {
   "codemirror_mode": {
    "name": "ipython",
    "version": 3
   },
   "file_extension": ".py",
   "mimetype": "text/x-python",
   "name": "python",
   "nbconvert_exporter": "python",
   "pygments_lexer": "ipython3",
   "version": "3.12.0"
  }
 },
 "nbformat": 4,
 "nbformat_minor": 5
}
