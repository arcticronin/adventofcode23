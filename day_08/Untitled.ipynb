{
 "cells": [
  {
   "cell_type": "code",
   "execution_count": 7,
   "id": "cd3231a1-688e-40dd-bede-670f1617aba7",
   "metadata": {},
   "outputs": [],
   "source": [
    "## parsing\n",
    "file1 = open('input.txt', 'r')\n",
    "Lines = file1.readlines()\n",
    "\n",
    "d = dict()\n",
    "pattern = Lines[0].strip()\n",
    "\n",
    "for line in Lines[2:]:\n",
    "    s = line.strip()\n",
    "    parsed = s.replace(\" \", \"\").replace(\"(\",\"\").replace(\")\",\"\").replace(\"=\",\",\").split(\",\")\n",
    "    key, l , r = parsed\n",
    "    d[key] =(l,r)"
   ]
  },
  {
   "cell_type": "code",
   "execution_count": 8,
   "id": "1cb5d30e-119e-4634-944e-f069a3563da7",
   "metadata": {},
   "outputs": [],
   "source": [
    "## init \n",
    "position = \"AAA\"\n",
    "steps = 0\n",
    "walkingDir = pattern\n",
    "while position != \"ZZZ\":\n",
    "    if walkingDir == '':\n",
    "        walkingDir = pattern\n",
    "    if walkingDir[0] == 'L':\n",
    "        position = d[position][0]\n",
    "    elif walkingDir[0] == 'R':\n",
    "        position = d[position][1]\n",
    "    walkingDir = walkingDir[1:]\n",
    "    steps += 1 "
   ]
  },
  {
   "cell_type": "code",
   "execution_count": 9,
   "id": "a3848e81-d952-40e5-8405-890c1f6629d8",
   "metadata": {},
   "outputs": [
    {
     "data": {
      "text/plain": [
       "23147"
      ]
     },
     "execution_count": 9,
     "metadata": {},
     "output_type": "execute_result"
    }
   ],
   "source": [
    "steps"
   ]
  },
  {
   "cell_type": "code",
   "execution_count": null,
   "id": "c34b3a2e-af2d-4857-8f03-6554d91ed99c",
   "metadata": {},
   "outputs": [],
   "source": []
  }
 ],
 "metadata": {
  "kernelspec": {
   "display_name": "Python 3 (ipykernel)",
   "language": "python",
   "name": "python3"
  },
  "language_info": {
   "codemirror_mode": {
    "name": "ipython",
    "version": 3
   },
   "file_extension": ".py",
   "mimetype": "text/x-python",
   "name": "python",
   "nbconvert_exporter": "python",
   "pygments_lexer": "ipython3",
   "version": "3.12.0"
  }
 },
 "nbformat": 4,
 "nbformat_minor": 5
}
