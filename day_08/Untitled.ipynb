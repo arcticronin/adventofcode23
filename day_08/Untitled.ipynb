{
 "cells": [
  {
   "cell_type": "code",
   "execution_count": 8,
   "id": "a2d20fbf-6fcf-4d35-85ce-bbed93cf3e8c",
   "metadata": {},
   "outputs": [],
   "source": [
    "def walk(d, node, direction):\n",
    "        if direction == 'L':\n",
    "            return d[node][0]\n",
    "        elif direction == 'R':\n",
    "            return d[node][1]"
   ]
  },
  {
   "cell_type": "code",
   "execution_count": 9,
   "id": "d7e96983-d326-4b86-9863-26e488356919",
   "metadata": {},
   "outputs": [],
   "source": [
    "def check_Z( l ):\n",
    "    for n in l:\n",
    "        if n[-1]!=\"Z\":\n",
    "            return False\n",
    "    return True"
   ]
  },
  {
   "cell_type": "code",
   "execution_count": 10,
   "id": "cd3231a1-688e-40dd-bede-670f1617aba7",
   "metadata": {},
   "outputs": [],
   "source": [
    "## parsing\n",
    "file1 = open('input.txt', 'r')\n",
    "Lines = file1.readlines()\n",
    "\n",
    "d = dict()\n",
    "pattern = Lines[0].strip()\n",
    "\n",
    "for line in Lines[2:]:\n",
    "    s = line.strip()\n",
    "    parsed = s.replace(\" \", \"\").replace(\"(\",\"\").replace(\")\",\"\").replace(\"=\",\",\").split(\",\")\n",
    "    key, l , r = parsed\n",
    "    d[key] =(l,r)"
   ]
  },
  {
   "cell_type": "code",
   "execution_count": 11,
   "id": "f5beb20d-e504-4819-865b-9a9e15bbb5bf",
   "metadata": {},
   "outputs": [
    {
     "data": {
      "text/plain": [
       "23147"
      ]
     },
     "execution_count": 11,
     "metadata": {},
     "output_type": "execute_result"
    }
   ],
   "source": [
    "## part 1\n",
    "position = \"AAA\"\n",
    "steps = 0 \n",
    "walkingDir = pattern\n",
    "while position != \"ZZZ\":\n",
    "    if walkingDir == '':\n",
    "        walkingDir = pattern\n",
    "    position = walk(d,position,walkingDir[0])\n",
    "    walkingDir = walkingDir[1:]\n",
    "    steps += 1 \n",
    "steps"
   ]
  },
  {
   "cell_type": "code",
   "execution_count": 12,
   "id": "2e99b01b-26ae-43fb-9125-e18f713798e2",
   "metadata": {},
   "outputs": [
    {
     "name": "stdout",
     "output_type": "stream",
     "text": [
      "['NPA', 'HMA', 'GQA', 'CXA', 'AAA', 'VHA']\n"
     ]
    }
   ],
   "source": [
    "# part 2\n",
    "positionList = []\n",
    "for node in d.keys():\n",
    "    if node[2] == \"A\":\n",
    "        positionList.append(node)\n",
    "print(positionList)"
   ]
  },
  {
   "cell_type": "code",
   "execution_count": 6,
   "id": "3c0de8d7-2800-4911-a217-4fbe71122c20",
   "metadata": {},
   "outputs": [
    {
     "name": "stdout",
     "output_type": "stream",
     "text": [
      "['NPA', 'HMA', 'CXA', 'AAA', 'VHA']\n",
      "['KXT', 'NFR', 'MXK', 'VQX', 'BPP']\n",
      "['TKV', 'BJV', 'PML', 'BBP', 'VGT']\n",
      "['MFL', 'XDT', 'HSN', 'TGG', 'LKD']\n",
      "['BJQ', 'VJR', 'VRF', 'SDN', 'LSK']\n",
      "['FXG', 'DGK', 'XJN', 'TJD', 'CQH']\n",
      "['DXQ', 'CBB', 'NHN', 'CDP', 'VTN']\n"
     ]
    },
    {
     "ename": "KeyboardInterrupt",
     "evalue": "",
     "output_type": "error",
     "traceback": [
      "\u001b[0;31m---------------------------------------------------------------------------\u001b[0m",
      "\u001b[0;31mKeyboardInterrupt\u001b[0m                         Traceback (most recent call last)",
      "Cell \u001b[0;32mIn[6], line 9\u001b[0m\n\u001b[1;32m      7\u001b[0m     walkingDir \u001b[38;5;241m=\u001b[39m pattern\n\u001b[1;32m      8\u001b[0m \u001b[38;5;28;01mfor\u001b[39;00m i \u001b[38;5;129;01min\u001b[39;00m \u001b[38;5;28mrange\u001b[39m(\u001b[38;5;28mlen\u001b[39m(positionList)):\n\u001b[0;32m----> 9\u001b[0m     positionList[i] \u001b[38;5;241m=\u001b[39m walk(d , positionList[i],walkingDir[\u001b[38;5;241m0\u001b[39m])\n\u001b[1;32m     10\u001b[0m walkingDir \u001b[38;5;241m=\u001b[39m walkingDir[\u001b[38;5;241m1\u001b[39m:]\n\u001b[1;32m     11\u001b[0m steps2 \u001b[38;5;241m+\u001b[39m\u001b[38;5;241m=\u001b[39m \u001b[38;5;241m1\u001b[39m \n",
      "\u001b[0;31mKeyboardInterrupt\u001b[0m: "
     ]
    }
   ],
   "source": [
    "steps2 = 0\n",
    "walkingDir = pattern\n",
    "while (not check_Z(positionList)):\n",
    "    if walkingDir == '' :  \n",
    "        walkingDir = pattern\n",
    "    for i in range(len(positionList)):\n",
    "        positionList[i] = walk(d , positionList[i],walkingDir[0])\n",
    "    walkingDir = walkingDir[1:]\n",
    "    steps2 += 1 "
   ]
  },
  {
   "cell_type": "code",
   "execution_count": 17,
   "id": "63be24df-461f-404b-90fb-6a0b841e8010",
   "metadata": {},
   "outputs": [],
   "source": [
    "## that is too long\n",
    "## splicing it and trying a better idea\n",
    "\n",
    "## results analysing first2, first3 and last3\n",
    "primi_2 = 922657\n",
    "primi_3 = 67353961\n",
    "ultimi_3 = 96962783"
   ]
  },
  {
   "cell_type": "code",
   "execution_count": 18,
   "id": "356fcdae-9c7f-4d07-89ff-3a8ebf84efa3",
   "metadata": {},
   "outputs": [],
   "source": [
    "import numpy as np"
   ]
  },
  {
   "cell_type": "code",
   "execution_count": 22,
   "id": "3b433543-f54d-43d6-b13c-dbdaa320df79",
   "metadata": {},
   "outputs": [
    {
     "data": {
      "text/plain": [
       "22289513667691"
      ]
     },
     "execution_count": 22,
     "metadata": {},
     "output_type": "execute_result"
    }
   ],
   "source": [
    "np.lcm(primi_3, ultimi_3)"
   ]
  }
 ],
 "metadata": {
  "kernelspec": {
   "display_name": "Python 3 (ipykernel)",
   "language": "python",
   "name": "python3"
  },
  "language_info": {
   "codemirror_mode": {
    "name": "ipython",
    "version": 3
   },
   "file_extension": ".py",
   "mimetype": "text/x-python",
   "name": "python",
   "nbconvert_exporter": "python",
   "pygments_lexer": "ipython3",
   "version": "3.12.0"
  }
 },
 "nbformat": 4,
 "nbformat_minor": 5
}
