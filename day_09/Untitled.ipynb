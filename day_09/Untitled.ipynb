{
 "cells": [
  {
   "cell_type": "code",
   "execution_count": 70,
   "id": "081ad8d4-6048-4dc1-b96b-d50ecba17b3d",
   "metadata": {},
   "outputs": [],
   "source": [
    "import pandas as pd\n",
    "import pandas as pd\n",
    "from sklearn.linear_model import LinearRegression\n",
    "from sklearn.model_selection import train_test_split"
   ]
  },
  {
   "cell_type": "code",
   "execution_count": 71,
   "id": "aea17113-2c4d-49b9-b6eb-82a3a861a883",
   "metadata": {},
   "outputs": [],
   "source": [
    "data = pd.read_csv(\"input.txt\" ,delim_whitespace=True, header=None)\n",
    "df = pd.read_csv(\"input.txt\" ,delim_whitespace=True, header=None)"
   ]
  },
  {
   "cell_type": "code",
   "execution_count": 72,
   "id": "13cdad5e-6469-4ccf-874a-d54cc9f1285d",
   "metadata": {},
   "outputs": [],
   "source": [
    "X = df.iloc[:,:-1]\n",
    "y = df.iloc[:,-1]  \n",
    "\n",
    "model = LinearRegression()\n",
    "model.fit(X, y)\n",
    "\n",
    "# Predict the next element\n",
    "df['predicted'] = model.predict(df.iloc[:,1:])"
   ]
  },
  {
   "cell_type": "code",
   "execution_count": 73,
   "id": "e91b188f-7536-401a-bc67-1a0a5ded0013",
   "metadata": {},
   "outputs": [
    {
     "data": {
      "text/plain": [
       "1969958987.0"
      ]
     },
     "execution_count": 73,
     "metadata": {},
     "output_type": "execute_result"
    }
   ],
   "source": [
    "df['predicted'].round().sum() ## part 1"
   ]
  },
  {
   "cell_type": "code",
   "execution_count": 74,
   "id": "ac3284be-c81c-456d-8eba-0b458b803735",
   "metadata": {},
   "outputs": [
    {
     "name": "stderr",
     "output_type": "stream",
     "text": [
      "/tmp/ipykernel_21169/2613751745.py:10: SettingWithCopyWarning: \n",
      "A value is trying to be set on a copy of a slice from a DataFrame.\n",
      "Try using .loc[row_indexer,col_indexer] = value instead\n",
      "\n",
      "See the caveats in the documentation: https://pandas.pydata.org/pandas-docs/stable/user_guide/indexing.html#returning-a-view-versus-a-copy\n",
      "  df2['predicted'] = model2.predict(df2.iloc[:,1:])\n"
     ]
    }
   ],
   "source": [
    "df2 = data[data.columns[::-1]]\n",
    "\n",
    "X = df2.iloc[:,:-1]\n",
    "y = df2.iloc[:,-1]  \n",
    "\n",
    "model2 = LinearRegression()\n",
    "model2.fit(X, y)\n",
    "\n",
    "# Predict the next element\n",
    "df2['predicted'] = model2.predict(df2.iloc[:,1:])"
   ]
  },
  {
   "cell_type": "code",
   "execution_count": 76,
   "id": "96aff35c-3da1-4178-aa6f-c52f5a57954d",
   "metadata": {},
   "outputs": [
    {
     "data": {
      "text/plain": [
       "1068.0"
      ]
     },
     "execution_count": 76,
     "metadata": {},
     "output_type": "execute_result"
    }
   ],
   "source": [
    "df2['predicted'].round().sum() ## part 1"
   ]
  },
  {
   "cell_type": "code",
   "execution_count": null,
   "id": "9b09c30b-2aa7-4dbb-858c-4483e7ae3225",
   "metadata": {},
   "outputs": [],
   "source": []
  },
  {
   "cell_type": "code",
   "execution_count": null,
   "id": "c451d6a0-f2a9-4fea-a349-0e572c235e11",
   "metadata": {},
   "outputs": [],
   "source": []
  }
 ],
 "metadata": {
  "kernelspec": {
   "display_name": "Python 3 (ipykernel)",
   "language": "python",
   "name": "python3"
  },
  "language_info": {
   "codemirror_mode": {
    "name": "ipython",
    "version": 3
   },
   "file_extension": ".py",
   "mimetype": "text/x-python",
   "name": "python",
   "nbconvert_exporter": "python",
   "pygments_lexer": "ipython3",
   "version": "3.12.0"
  }
 },
 "nbformat": 4,
 "nbformat_minor": 5
}
